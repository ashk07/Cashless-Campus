{
 "cells": [
  {
   "cell_type": "code",
   "execution_count": 1,
   "id": "f4867302",
   "metadata": {},
   "outputs": [],
   "source": [
    "from flask import Flask\n",
    "from flask import request\n",
    "import pymysql\n",
    "from werkzeug.utils import secure_filename\n",
    "import os\n",
    "import json\n",
    "import qrcode\n",
    "import cv2\n",
    "from datetime import datetime \n",
    "\n",
    "import smtplib \n",
    "from email.mime.multipart import MIMEMultipart \n",
    "from email.mime.text import MIMEText\n",
    "import schedule\n",
    "import time \n",
    "import threading"
   ]
  },
  {
   "cell_type": "code",
   "execution_count": 2,
   "id": "c42cf9d0",
   "metadata": {},
   "outputs": [],
   "source": [
    "def dbConnection():\n",
    "    try:\n",
    "        connection = pymysql.connect(host=\"localhost\", user=\"root\", password=\"root\", database=\"cashlesscampus\")\n",
    "        return connection\n",
    "    except:\n",
    "        print(\"Something went wrong in database Connection\")\n",
    "\n",
    "def dbClose():\n",
    "    try:\n",
    "        dbConnection().close()\n",
    "    except:\n",
    "        print(\"Something went wrong in Close DB Connection\")\n",
    "\n",
    "con = dbConnection()\n",
    "cursor = con.cursor()"
   ]
  },
  {
   "cell_type": "code",
   "execution_count": 3,
   "id": "539ef2cb",
   "metadata": {},
   "outputs": [
    {
     "name": "stdout",
     "output_type": "stream",
     "text": [
      "[('static/Library/image-20240327-174646.jpg', 'The kite runner'), ('static/Library/image-20240327-182503.jpg', 'Earpods'), ('static/Library/image-20240327-174755.jpg', 'Little women'), ('static/Library/image-20240327-174829.jpg', 'comic'), ('static/Library/image-20240327-181801.jpg', 'hhhh')]\n",
      "[('static/Canteen/image-20240311-125908.jpg', 'Pizza butter chicken'), ('static/Canteen/image-20240327-182426.jpg', 'Harry potter'), ('static/Canteen/image-20240327-170440.jpg', 'Leaffy salad'), ('static/Canteen/image-20240327-170501.jpg', 'Mashroom kabab'), ('static/Canteen/image-20240327-181845.jpg', 'Bag')]\n",
      "[('static/Stationary/image-20240311-162335.jpg', 'Roof of home'), ('static/Stationary/image-20240327-170607.jpg', 'Dell laptop')]\n",
      "[('static/Event/image-20240331-004723.jpg', 'Dance event'), ('static/Event/image-20240331-013227.jpg', 'Coding event')]\n"
     ]
    }
   ],
   "source": [
    "librarydata = []\n",
    "cursor.execute('SELECT * FROM items WHERE category=%s',(\"Library\"))\n",
    "count = cursor.rowcount\n",
    "if count > 0:\n",
    "    row = cursor.fetchall()\n",
    "    librarydata = [(item[1], item[2]) for item in row]\n",
    "\n",
    "print(librarydata)\n",
    "\n",
    "canteendata = []\n",
    "cursor.execute('SELECT * FROM items WHERE category=%s',(\"Canteen\"))\n",
    "count = cursor.rowcount\n",
    "if count > 0:\n",
    "    row = cursor.fetchall()\n",
    "    canteendata = [(item[1], item[2]) for item in row]\n",
    "\n",
    "print(canteendata)\n",
    "\n",
    "stationarydata = []\n",
    "cursor.execute('SELECT * FROM items WHERE category=%s',(\"Stationary\"))\n",
    "count = cursor.rowcount\n",
    "if count > 0:\n",
    "    row = cursor.fetchall()\n",
    "    stationarydata = [(item[1], item[2]) for item in row]\n",
    "\n",
    "print(stationarydata)\n",
    "\n",
    "eventdata = []\n",
    "cursor.execute('SELECT * FROM items WHERE category=%s',(\"Event\"))\n",
    "count = cursor.rowcount\n",
    "if count > 0:\n",
    "    row = cursor.fetchall()\n",
    "    eventdata = [(item[1], item[2]) for item in row]\n",
    "\n",
    "print(eventdata)"
   ]
  },
  {
   "cell_type": "code",
   "execution_count": 12,
   "id": "779d754f",
   "metadata": {},
   "outputs": [
    {
     "name": "stdout",
     "output_type": "stream",
     "text": [
      "[['static/Library/image-20240327-174646.jpg', 'The kite runner', 20], ['static/Library/image-20240327-182503.jpg', 'Earpods', 0], ['static/Library/image-20240327-174755.jpg', 'Little women', 20], ['static/Library/image-20240327-174829.jpg', 'comic', 0], ['static/Library/image-20240327-181801.jpg', 'hhhh', 60]]\n",
      "[['static/Canteen/image-20240311-125908.jpg', 'Pizza butter chicken', 46], ['static/Canteen/image-20240327-182426.jpg', 'Harry potter', 72], ['static/Canteen/image-20240327-170440.jpg', 'Leaffy salad', 0], ['static/Canteen/image-20240327-170501.jpg', 'Mashroom kabab', 0], ['static/Canteen/image-20240327-181845.jpg', 'Bag', 36]]\n",
      "[['static/Stationary/image-20240311-162335.jpg', 'Roof of home', 0], ['static/Stationary/image-20240327-170607.jpg', 'Dell laptop', 90]]\n",
      "[['static/Event/image-20240331-004723.jpg', 'Dance event', 10], ['static/Event/image-20240331-013227.jpg', 'Coding event', 20]]\n"
     ]
    }
   ],
   "source": [
    "librarysumcount = []\n",
    "for i in librarydata:\n",
    "    cursor.execute('SELECT SUM(status) AS sum FROM orders WHERE pname = %s AND pcat = %s AND status != %s;',(i[1],\"Library\",\"-\"))\n",
    "    row = cursor.fetchall()\n",
    "    total_sum = row[0][0] if row[0][0] is not None else 0\n",
    "    i = list(i)\n",
    "    i.append(int(total_sum))\n",
    "    librarysumcount.append(i)\n",
    "\n",
    "print(librarysumcount)\n",
    "\n",
    "canteensumcount = []\n",
    "for i in canteendata:\n",
    "    cursor.execute('SELECT SUM(price) AS sum FROM orders WHERE pname = %s AND pcat = %s AND price != %s;',(i[1],\"Canteen\",\"-\"))\n",
    "    row = cursor.fetchall()\n",
    "    total_sum = row[0][0] if row[0][0] is not None else 0\n",
    "    i = list(i)\n",
    "    i.append(int(total_sum))\n",
    "    canteensumcount.append(i)\n",
    "\n",
    "print(canteensumcount)\n",
    "\n",
    "stationarysumcount = []\n",
    "for i in stationarydata:\n",
    "    cursor.execute('SELECT SUM(price) AS sum FROM orders WHERE pname = %s AND pcat = %s AND price != %s;',(i[1],\"Stationary\",\"-\"))\n",
    "    row = cursor.fetchall()\n",
    "    total_sum = row[0][0] if row[0][0] is not None else 0\n",
    "    i = list(i)\n",
    "    i.append(int(total_sum))\n",
    "    stationarysumcount.append(i)\n",
    "\n",
    "print(stationarysumcount)\n",
    "\n",
    "eventsumcount = []\n",
    "for i in eventdata:\n",
    "    cursor.execute('SELECT SUM(price) AS sum FROM orders WHERE pname = %s AND pcat = %s AND price != %s;',(i[1],\"Event\",\"-\"))\n",
    "    row = cursor.fetchall()\n",
    "    total_sum = row[0][0] if row[0][0] is not None else 0\n",
    "    i = list(i)\n",
    "    i.append(int(total_sum))\n",
    "    eventsumcount.append(i)\n",
    "\n",
    "print(eventsumcount)"
   ]
  },
  {
   "cell_type": "code",
   "execution_count": null,
   "id": "901dc52c",
   "metadata": {},
   "outputs": [],
   "source": []
  },
  {
   "cell_type": "code",
   "execution_count": null,
   "id": "115a1d07",
   "metadata": {},
   "outputs": [],
   "source": []
  },
  {
   "cell_type": "code",
   "execution_count": null,
   "id": "116008ec",
   "metadata": {},
   "outputs": [],
   "source": []
  },
  {
   "cell_type": "code",
   "execution_count": null,
   "id": "aa0e3b69",
   "metadata": {},
   "outputs": [],
   "source": []
  },
  {
   "cell_type": "code",
   "execution_count": null,
   "id": "ca1e5c04",
   "metadata": {},
   "outputs": [],
   "source": []
  },
  {
   "cell_type": "code",
   "execution_count": null,
   "id": "13f0f24a",
   "metadata": {},
   "outputs": [],
   "source": []
  },
  {
   "cell_type": "code",
   "execution_count": null,
   "id": "61d18b99",
   "metadata": {},
   "outputs": [],
   "source": []
  },
  {
   "cell_type": "code",
   "execution_count": null,
   "id": "914c2c71",
   "metadata": {},
   "outputs": [],
   "source": []
  },
  {
   "cell_type": "code",
   "execution_count": null,
   "id": "65594fc8",
   "metadata": {},
   "outputs": [],
   "source": []
  },
  {
   "cell_type": "code",
   "execution_count": null,
   "id": "5aca5109",
   "metadata": {},
   "outputs": [],
   "source": []
  },
  {
   "cell_type": "code",
   "execution_count": null,
   "id": "f61e686b",
   "metadata": {},
   "outputs": [],
   "source": []
  },
  {
   "cell_type": "code",
   "execution_count": null,
   "id": "e30088e3",
   "metadata": {},
   "outputs": [],
   "source": []
  },
  {
   "cell_type": "code",
   "execution_count": null,
   "id": "826e7a4b",
   "metadata": {},
   "outputs": [],
   "source": []
  },
  {
   "cell_type": "code",
   "execution_count": null,
   "id": "70e1452c",
   "metadata": {},
   "outputs": [],
   "source": []
  },
  {
   "cell_type": "code",
   "execution_count": null,
   "id": "7cc2fa33",
   "metadata": {},
   "outputs": [],
   "source": []
  },
  {
   "cell_type": "code",
   "execution_count": null,
   "id": "fdb34efe",
   "metadata": {},
   "outputs": [],
   "source": []
  },
  {
   "cell_type": "code",
   "execution_count": null,
   "id": "c315febf",
   "metadata": {},
   "outputs": [],
   "source": []
  },
  {
   "cell_type": "code",
   "execution_count": null,
   "id": "13eaa8e4",
   "metadata": {},
   "outputs": [],
   "source": []
  },
  {
   "cell_type": "code",
   "execution_count": 23,
   "id": "70d31a52",
   "metadata": {},
   "outputs": [],
   "source": [
    "adminmail = \"yashsalvi1999@gmail.com\""
   ]
  },
  {
   "cell_type": "code",
   "execution_count": 24,
   "id": "986269dd",
   "metadata": {},
   "outputs": [],
   "source": [
    "from datetime import datetime"
   ]
  },
  {
   "cell_type": "code",
   "execution_count": 25,
   "id": "4928ad03",
   "metadata": {},
   "outputs": [],
   "source": [
    "def sendemailtouser(usermail,ogpass):   \n",
    "    fromaddr = \"pranalibscproject@gmail.com\"\n",
    "    toaddr = usermail\n",
    "    msg = MIMEMultipart()   \n",
    "    msg['From'] = fromaddr  \n",
    "    msg['To'] = toaddr \n",
    "    msg['Subject'] = \"Cashless Campass\"\n",
    "    body = ogpass\n",
    "    msg.attach(MIMEText(body, 'plain'))  \n",
    "    s = smtplib.SMTP('smtp.gmail.com', 587) \n",
    "    s.starttls() \n",
    "    s.login(fromaddr, \"wkwfgosewcljcpqh\") \n",
    "    text = msg.as_string() \n",
    "    s.sendmail(fromaddr, toaddr, text) \n",
    "    s.quit() "
   ]
  },
  {
   "cell_type": "code",
   "execution_count": 26,
   "id": "0ac83c44",
   "metadata": {},
   "outputs": [
    {
     "name": "stdout",
     "output_type": "stream",
     "text": [
      "[('Yash', 'Salvi', 'yashsalvi1999@gmail.com', 'VU1F20210608', 'The kite runner', '-'), ('Roshan', 'Mund', 'recordings.projects@gmail.com', 'RYEj63749878', 'Little women', '-')]\n",
      "[['Roshan', 'Mund', 'recordings.projects@gmail.com', 'RYEj63749878', 'hhhh', '-', 1]]\n"
     ]
    }
   ],
   "source": [
    "cursor.execute('SELECT studid,pname,datetime FROM orders WHERE pcat = %s', (\"Library\"))\n",
    "count = cursor.rowcount\n",
    "notifylist = []\n",
    "finelist = []\n",
    "if count > 0:\n",
    "    row = cursor.fetchall()\n",
    "    for i in row:\n",
    "        given_date = datetime.strptime(i[2], '%d-%m-%Y %H:%M')\n",
    "        current_date = datetime.now()\n",
    "        difference = current_date - given_date\n",
    "        difference_in_days = difference.days\n",
    "        cursor.execute('SELECT register.fname,register.lname,register.email,orders.studid,orders.pname,orders.status FROM register JOIN orders ON register.cid = orders.studid WHERE orders.studid = %s and orders.pname = %s and orders.datetime = %s', (i[0],i[1],i[2]))\n",
    "        data = cursor.fetchone()\n",
    "        if int(difference_in_days) == 6:\n",
    "            notifylist.append(data)\n",
    "        elif int(difference_in_days) > 7 and data[5] == \"-\":\n",
    "            data = list(data)\n",
    "            data.append(difference_in_days-7)\n",
    "            finelist.append(data)\n",
    "            \n",
    "print(notifylist)\n",
    "print(finelist)"
   ]
  },
  {
   "cell_type": "code",
   "execution_count": 7,
   "id": "1e3a5bda",
   "metadata": {},
   "outputs": [
    {
     "name": "stdout",
     "output_type": "stream",
     "text": [
      "('Yash', 'Salvi', 'yashsalvi1999@gmail.com', 'VU1F20210608', 'The kite runner', '-')\n",
      "('Roshan', 'Mund', 'recordings.projects@gmail.com', 'RYEj63749878', 'Little women', '-')\n"
     ]
    }
   ],
   "source": [
    "for i in notifylist:\n",
    "    print(i)\n",
    "    sendemailtouser(i[2],\"Dear \"+str(i[0]+\" \"+i[1])+\", Book '\"+str(i[4])+\"' return date is tomorrow.\")"
   ]
  },
  {
   "cell_type": "code",
   "execution_count": 11,
   "id": "d6e683b2",
   "metadata": {},
   "outputs": [
    {
     "name": "stdout",
     "output_type": "stream",
     "text": [
      "['Roshan', 'Mund', 'recordings.projects@gmail.com', 'RYEj63749878', 'hhhh', '-', 1]\n",
      "['RYEj63749878', 'CS', '9658569585', '147', 'static/QRs/RYEj63749878_QR.png']\n"
     ]
    }
   ],
   "source": [
    "for i in finelist:\n",
    "    print(i)\n",
    "    qrpath = 'static/QRs/'+str(i[3])+'_QR.png'\n",
    "    image = cv2.imread(qrpath)\n",
    "    qr_code_detector = cv2.QRCodeDetector()\n",
    "    decoded_data, points, _ = qr_code_detector.detectAndDecode(image)\n",
    "\n",
    "    parts = decoded_data.split(\"|\")\n",
    "    print(parts)\n",
    "    updated_funds = str(int(parts[3]) - int(10*int(i[6])))\n",
    "    dataofqr = parts[0]+\"|\"+parts[1]+\"|\"+parts[2]+\"|\"+updated_funds+\"|\"+parts[4]\n",
    "    img = qrcode.make(dataofqr)\n",
    "    img.save(str(parts[4])) \n",
    "    \n",
    "    sql1 = \"UPDATE orders SET status = %s WHERE studid = %s AND pname = %s;\"\n",
    "    val1 = (\"Done\", i[3], i[4])\n",
    "    cursor.execute(sql1,val1)\n",
    "    con.commit() \n",
    "    \n",
    "    sendemailtouser(i[2],\"Dear \"+str(i[0]+\" \"+i[1])+\", \"+str(int(10*int(i[6])))+\" Rs. is deducted from your account Remaining balance is \"+str(updated_funds))"
   ]
  },
  {
   "cell_type": "code",
   "execution_count": 12,
   "id": "0d51e3b0",
   "metadata": {},
   "outputs": [],
   "source": [
    "def getBalance(cid):\n",
    "    qrpath = 'static/QRs/'+str(cid)+'_QR.png'\n",
    "    image = cv2.imread(qrpath)\n",
    "    qr_code_detector = cv2.QRCodeDetector()\n",
    "    decoded_data, points, _ = qr_code_detector.detectAndDecode(image)\n",
    "\n",
    "    parts = decoded_data.split(\"|\")\n",
    "    print(parts)\n",
    "    return parts[3]"
   ]
  },
  {
   "cell_type": "code",
   "execution_count": 13,
   "id": "54d52f3c",
   "metadata": {},
   "outputs": [
    {
     "name": "stdout",
     "output_type": "stream",
     "text": [
      "(1, 'Yash', 'Salvi', 'VU1F20210608', 'IT', '2025', 'yashsalvi1999@gmail.com', '5859658458', 'yash')\n",
      "['VU1F20210608', 'IT', '5859658458', '206', 'static/QRs/VU1F20210608_QR.png']\n",
      "(2, 'Amol', 'Nerlekar', 'Vyke34569809', 'EXTC', '2005', 'recordings.projects@gmail.com', '3658965352', 'amol')\n",
      "['Vyke34569809', 'EXTC', '3658965352', '0', 'static/QRs/Vyke34569809_QR.png']\n",
      "(3, 'Pratham', 'Mane', 'Pratg3458903', 'AIDS', '2010', 'yashsalvi1999@gmail.com', '3652853652', 'pra')\n",
      "['Pratg3458903', 'AIDS', '3652853652', '123', 'static/QRs/Pratg3458903_QR.png']\n",
      "(5, 'Roshan', 'Mund', 'RYEj63749878', 'CS', '2022', 'recordings.projects@gmail.com', '9658569585', 'Roshan')\n",
      "['RYEj63749878', 'CS', '9658569585', '137', 'static/QRs/RYEj63749878_QR.png']\n"
     ]
    }
   ],
   "source": [
    "lowbalncelist = []\n",
    "cursor.execute('SELECT * FROM register')\n",
    "count = cursor.rowcount\n",
    "if count > 0:\n",
    "    rowdata = cursor.fetchall()\n",
    "    for row in rowdata:\n",
    "        print(row)\n",
    "        if int(getBalance(row[3])) < 20:\n",
    "            lowbalncelist.append(row)"
   ]
  },
  {
   "cell_type": "code",
   "execution_count": 14,
   "id": "e0bb856a",
   "metadata": {},
   "outputs": [
    {
     "name": "stdout",
     "output_type": "stream",
     "text": [
      "(2, 'Amol', 'Nerlekar', 'Vyke34569809', 'EXTC', '2005', 'recordings.projects@gmail.com', '3658965352', 'amol')\n"
     ]
    }
   ],
   "source": [
    "for i in lowbalncelist:\n",
    "    print(i)\n",
    "    sendemailtouser(i[6],\"Dear \"+str(i[1]+\" \"+i[2])+\", You have low balance.\")\n",
    "    sendemailtouser(adminmail,\"Dear Admin, \"+str(i[1]+\" \"+i[2])+\" having low balance.\")"
   ]
  },
  {
   "cell_type": "code",
   "execution_count": null,
   "id": "34887eb4",
   "metadata": {},
   "outputs": [],
   "source": []
  },
  {
   "cell_type": "code",
   "execution_count": null,
   "id": "dc91c229",
   "metadata": {},
   "outputs": [],
   "source": []
  }
 ],
 "metadata": {
  "kernelspec": {
   "display_name": "Python 3 (ipykernel)",
   "language": "python",
   "name": "python3"
  },
  "language_info": {
   "codemirror_mode": {
    "name": "ipython",
    "version": 3
   },
   "file_extension": ".py",
   "mimetype": "text/x-python",
   "name": "python",
   "nbconvert_exporter": "python",
   "pygments_lexer": "ipython3",
   "version": "3.8.18"
  }
 },
 "nbformat": 4,
 "nbformat_minor": 5
}
